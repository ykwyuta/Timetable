{
  "nbformat": 4,
  "nbformat_minor": 0,
  "metadata": {
    "colab": {
      "name": "時間割最適化_線形計画法.ipynb",
      "version": "0.3.2",
      "provenance": [],
      "collapsed_sections": [],
      "include_colab_link": true
    },
    "kernelspec": {
      "name": "python3",
      "display_name": "Python 3"
    }
  },
  "cells": [
    {
      "cell_type": "markdown",
      "metadata": {
        "id": "view-in-github",
        "colab_type": "text"
      },
      "source": [
        "<a href=\"https://colab.research.google.com/github/ykwyuta/timetable/blob/master/timetable_linear_programming.ipynb\" target=\"_parent\"><img src=\"https://colab.research.google.com/assets/colab-badge.svg\" alt=\"Open In Colab\"/></a>"
      ]
    },
    {
      "cell_type": "markdown",
      "metadata": {
        "id": "T8jPbb789Lj5",
        "colab_type": "text"
      },
      "source": [
        "https://qiita.com/Dason08/items/e1bafb9ddc766d1c8fd0\n",
        "\n",
        "https://qiita.com/samuelladoco/items/703bf78ea66e8369c455\n",
        "\n",
        "https://aimap.imi.kyushu-u.ac.jp/wp/wp-content/uploads/2018/01/tutorialKamiyama.pdf\n",
        "\n",
        "https://kindai.repo.nii.ac.jp/?action=repository_action_common_download&item_id=12802&item_no=1&attribute_id=40&file_no=1"
      ]
    },
    {
      "cell_type": "code",
      "metadata": {
        "id": "Ci3Z31nv66mF",
        "colab_type": "code",
        "outputId": "df8fd486-17e2-46bd-d016-4a65fae4e83c",
        "colab": {
          "base_uri": "https://localhost:8080/",
          "height": 187
        }
      },
      "source": [
        "!pip install pulp"
      ],
      "execution_count": 1,
      "outputs": [
        {
          "output_type": "stream",
          "text": [
            "Collecting pulp\n",
            "\u001b[?25l  Downloading https://files.pythonhosted.org/packages/2d/33/3ae6d9d2ac8c7068937af6372fd8828ac605e62a8b17106fe57110930d38/PuLP-1.6.10.zip (13.6MB)\n",
            "\u001b[K     |████████████████████████████████| 13.6MB 1.8MB/s \n",
            "\u001b[?25hRequirement already satisfied: pyparsing>=2.0.1 in /usr/local/lib/python3.6/dist-packages (from pulp) (2.4.0)\n",
            "Building wheels for collected packages: pulp\n",
            "  Building wheel for pulp (setup.py) ... \u001b[?25l\u001b[?25hdone\n",
            "  Stored in directory: /root/.cache/pip/wheels/5e/76/77/e28b22219e46e3b4b033f02e8b36b2770ae545bdcf60c2b224\n",
            "Successfully built pulp\n",
            "Installing collected packages: pulp\n",
            "Successfully installed pulp-1.6.10\n"
          ],
          "name": "stdout"
        }
      ]
    },
    {
      "cell_type": "code",
      "metadata": {
        "id": "dJqPRpw67Fv6",
        "colab_type": "code",
        "colab": {}
      },
      "source": [
        "import pulp"
      ],
      "execution_count": 0,
      "outputs": []
    },
    {
      "cell_type": "code",
      "metadata": {
        "id": "B9_gJP8o7aQ-",
        "colab_type": "code",
        "colab": {}
      },
      "source": [
        "problem = pulp.LpProblem(\"P\", pulp.LpMinimize)\n",
        "x = pulp.LpVariable(\"x\")\n",
        "y = pulp.LpVariable(\"y\")\n",
        "# 目的関数\n",
        "problem += 8*x + 19*y\n",
        "# 制約\n",
        "problem += 2*x + 7*y >= 40\n",
        "problem += 6*x + 3*y >= 50\n",
        "problem += x >= 0\n",
        "problem += y >= 0\n",
        "status = problem.solve()"
      ],
      "execution_count": 0,
      "outputs": []
    },
    {
      "cell_type": "code",
      "metadata": {
        "id": "hmxrzdP68Fzm",
        "colab_type": "code",
        "outputId": "c2f0a97e-2bfb-4ebc-c0cd-5dbe04fa3c1c",
        "colab": {
          "base_uri": "https://localhost:8080/",
          "height": 34
        }
      },
      "source": [
        "print(pulp.LpStatus[status])"
      ],
      "execution_count": 0,
      "outputs": [
        {
          "output_type": "stream",
          "text": [
            "Optimal\n"
          ],
          "name": "stdout"
        }
      ]
    },
    {
      "cell_type": "code",
      "metadata": {
        "id": "uKtqlM1m8Sjz",
        "colab_type": "code",
        "outputId": "c3ee01cf-be59-4183-fca6-363053b2a08d",
        "colab": {
          "base_uri": "https://localhost:8080/",
          "height": 34
        }
      },
      "source": [
        "print(pulp.value(problem.objective))"
      ],
      "execution_count": 0,
      "outputs": [
        {
          "output_type": "stream",
          "text": [
            "125.00000030000001\n"
          ],
          "name": "stdout"
        }
      ]
    },
    {
      "cell_type": "code",
      "metadata": {
        "id": "AqNDTFG18alL",
        "colab_type": "code",
        "outputId": "157b0f3d-7b78-4860-9ec5-51729f03f7ef",
        "colab": {
          "base_uri": "https://localhost:8080/",
          "height": 50
        }
      },
      "source": [
        "print(x.value())\n",
        "print(y.value())"
      ],
      "execution_count": 0,
      "outputs": [
        {
          "output_type": "stream",
          "text": [
            "6.3888889\n",
            "3.8888889\n"
          ],
          "name": "stdout"
        }
      ]
    },
    {
      "cell_type": "code",
      "metadata": {
        "id": "yGQe5Gc51mkd",
        "colab_type": "code",
        "outputId": "9606a365-b92a-4685-a143-b7fde454b691",
        "colab": {
          "base_uri": "https://localhost:8080/",
          "height": 34
        }
      },
      "source": [
        "[a+str(i) for i in range(3) for a in 'abc']"
      ],
      "execution_count": 0,
      "outputs": [
        {
          "output_type": "execute_result",
          "data": {
            "text/plain": [
              "['a0', 'b0', 'c0', 'a1', 'b1', 'c1', 'a2', 'b2', 'c2']"
            ]
          },
          "metadata": {
            "tags": []
          },
          "execution_count": 37
        }
      ]
    },
    {
      "cell_type": "markdown",
      "metadata": {
        "id": "bjYTxVrKzZg7",
        "colab_type": "text"
      },
      "source": [
        "# 時間割最適化\n",
        "## 変数の定義\n"
      ]
    },
    {
      "cell_type": "code",
      "metadata": {
        "id": "n5uzVcY78hCS",
        "colab_type": "code",
        "outputId": "77b7fa36-c21d-43a7-bd7c-f569ce2612cb",
        "colab": {
          "base_uri": "https://localhost:8080/",
          "height": 34
        }
      },
      "source": [
        "\n",
        "\n",
        "problem = pulp.LpProblem(\"P\", pulp.LpMinimize)\n",
        "\n",
        "subjects = {\n",
        "    '禁 ': (1, [0, 1, 2, 3, 4, 5]), \n",
        "    '現0': (3, [0, 1, 2]), \n",
        "    '古0': (2, [0, 1, 2]),\n",
        "    '漢0': (2, [0, 1, 2]),\n",
        "    '古1': (2, [3, 4, 5]),\n",
        "    '漢1': (2, [3, 4, 5]),\n",
        "    '数0': (5, [0, 1, 2]),\n",
        "    '英0': (5, [0, 1, 2]),\n",
        "    '日0': (2, [0, 1, 2]),\n",
        "    '世0': (2, [3, 4, 5]),\n",
        "    '化0': (2, [0, 1, 2, 3]),\n",
        "    '物0': (2, [1, 2, 4, 5]),\n",
        "    '生0': (2, [0, 3, 4, 5]),\n",
        "    '数1': (5, [3, 4, 5]),\n",
        "    '英1': (5, [3, 4, 5]),\n",
        "    '体0': (1, [0, 1, 2, 3, 4, 5]),\n",
        "    '美0': (1, [0, 1, 2, 3, 4, 5]),\n",
        "    '書0': (1, [0, 1, 2, 3, 4, 5]),\n",
        "    '保0': (1, [0, 1, 2, 3, 4, 5])\n",
        "}\n",
        "classes = 5\n",
        "days = 6\n",
        "lessons = 5\n",
        "\n",
        "units = {}\n",
        "\n",
        "for sk, sv in subjects.items():\n",
        "  for clazz in range(classes):\n",
        "    # 担当クラス外はスキップする\n",
        "    if clazz not in sv[1]:\n",
        "      continue\n",
        "    for day in range(days):\n",
        "      for lesson in range(lessons):\n",
        "        # 存在の有無（ 0 = 無, 1 = 有）\n",
        "        units[(sk, clazz, day, lesson)] = pulp.LpVariable(\"s:{0},c:{1},d:{2},L{3}\".format(sk, clazz, day, lesson), 0, 1,pulp.LpBinary)\n",
        "\n",
        "# 目的関数。今回は制約条件を満たせさえすればいいので意味はない\n",
        "problem += -units[list(units.keys())[0]], \"Objective\"\n",
        "# 制約\n",
        "# 同時に同じ授業は行われない\n",
        "for sk, sv in subjects.items():\n",
        "  if sk == '禁 ':\n",
        "    continue\n",
        "  for day in range(days):\n",
        "    for lesson in range(lessons):\n",
        "      problem += sum(units[(sk, clazz, day, lesson)]  for clazz in range(classes) if clazz in sv[1]) <= 1\n",
        "\n",
        "# 1日に同じ授業は1回だけ\n",
        "for sk, sv in subjects.items():\n",
        "  for clazz in range(classes):\n",
        "    if clazz not in sv[1]:\n",
        "      continue\n",
        "    for day in range(days):\n",
        "      if sk == '禁 ':\n",
        "        continue\n",
        "      else:\n",
        "        problem += sum(units[(sk, clazz, day, lesson)] for lesson in range(lessons)) <= 1\n",
        "\n",
        "# 科目&クラスごとの1週間の最低授業数\n",
        "for sk, sv in subjects.items():\n",
        "  for clazz in range(classes):\n",
        "    if clazz not in sv[1]:\n",
        "      continue\n",
        "    if sk == '禁 ':\n",
        "      problem += sum(units[(sk, clazz, day, lesson)] for day in range(days) for lesson in range(lessons)) == sv[0]\n",
        "    else:\n",
        "      problem += sum(units[(sk, clazz, day, lesson)] for day in range(days) for lesson in range(lessons)) >= sv[0]\n",
        "\n",
        "# 1日の授業数は決まっている\n",
        "for clazz in range(classes):\n",
        "  for day in range(days):\n",
        "    for lesson in range(lessons):\n",
        "      problem += sum(units[(sk, clazz, day, lesson)]  for sk, sv in subjects.items() if clazz in sv[1]) == 1\n",
        "\n",
        "# 授業が実施できない枠を設定する        \n",
        "for clazz in range(classes):\n",
        "  problem += units[('禁 ', clazz, days - 1, lessons - 1)] == 1\n",
        "  \n",
        "status = problem.solve()\n",
        "print(pulp.LpStatus[status])"
      ],
      "execution_count": 8,
      "outputs": [
        {
          "output_type": "stream",
          "text": [
            "Optimal\n"
          ],
          "name": "stdout"
        }
      ]
    },
    {
      "cell_type": "code",
      "metadata": {
        "id": "wvJiCHzw4jel",
        "colab_type": "code",
        "colab": {}
      },
      "source": [
        "# problem"
      ],
      "execution_count": 0,
      "outputs": []
    },
    {
      "cell_type": "code",
      "metadata": {
        "id": "aGpCVC89bSaq",
        "colab_type": "code",
        "outputId": "8835a32f-5d77-42e6-89aa-38f08e24acbe",
        "colab": {
          "base_uri": "https://localhost:8080/",
          "height": 527
        }
      },
      "source": [
        "for clazz in range(classes):\n",
        "  for day in range(days):\n",
        "    sub = []\n",
        "    for lesson in range(lessons):\n",
        "      for sk, sv in subjects.items():\n",
        "          if clazz not in sv[1]:\n",
        "            continue\n",
        "          if units[(sk, clazz, day, lesson)].value() > 0:\n",
        "            sub.append(str(lesson) + ':' + sk)\n",
        "    print(\"c:{0},d:{1}_\".format(clazz, day) + \",\".join(sub))"
      ],
      "execution_count": 10,
      "outputs": [
        {
          "output_type": "stream",
          "text": [
            "c:0,d:0_0:保0,1:古0,2:体0,3:英0,4:日0\n",
            "c:0,d:1_0:数0,1:英0,2:漢0,3:古0,4:体0\n",
            "c:0,d:2_0:化0,1:英0,2:数0,3:生0,4:現0\n",
            "c:0,d:3_0:書0,1:漢0,2:英0,3:数0,4:現0\n",
            "c:0,d:4_0:数0,1:化0,2:現0,3:英0,4:日0\n",
            "c:0,d:5_0:数0,1:書0,2:美0,3:生0,4:禁 \n",
            "c:1,d:0_0:体0,1:書0,2:漢0,3:古0,4:物0\n",
            "c:1,d:1_0:日0,1:物0,2:古0,3:数0,4:英0\n",
            "c:1,d:2_0:英0,1:美0,2:漢0,3:数0,4:化0\n",
            "c:1,d:3_0:化0,1:数0,2:現0,3:英0,4:日0\n",
            "c:1,d:4_0:現0,1:保0,2:数0,3:日0,4:英0\n",
            "c:1,d:5_0:現0,1:保0,2:数0,3:英0,4:禁 \n",
            "c:2,d:0_0:英0,1:保0,2:物0,3:化0,4:書0\n",
            "c:2,d:1_0:漢0,1:古0,2:数0,3:英0,4:物0\n",
            "c:2,d:2_0:数0,1:化0,2:現0,3:保0,4:英0\n",
            "c:2,d:3_0:数0,1:体0,2:日0,3:現0,4:漢0\n",
            "c:2,d:4_0:日0,1:数0,2:英0,3:現0,4:美0\n",
            "c:2,d:5_0:化0,1:数0,2:英0,3:古0,4:禁 \n",
            "c:3,d:0_0:数1,1:古1,2:生0,3:英1,4:化0\n",
            "c:3,d:1_0:漢1,1:生0,2:世0,3:数1,4:英1\n",
            "c:3,d:2_0:世0,1:体0,2:数1,3:英1,4:美0\n",
            "c:3,d:3_0:体0,1:数1,2:保0,3:英1,4:世0\n",
            "c:3,d:4_0:英1,1:書0,2:化0,3:古1,4:生0\n",
            "c:3,d:5_0:書0,1:漢1,2:生0,3:数1,4:禁 \n",
            "c:4,d:0_0:英1,1:数1,2:古1,3:物0,4:保0\n",
            "c:4,d:1_0:物0,1:数1,2:古1,3:英1,4:世0\n",
            "c:4,d:2_0:保0,1:英1,2:世0,3:物0,4:数1\n",
            "c:4,d:3_0:漢1,1:英1,2:美0,3:体0,4:生0\n",
            "c:4,d:4_0:生0,1:古1,2:英1,3:数1,4:漢1\n",
            "c:4,d:5_0:漢1,1:数1,2:書0,3:体0,4:禁 \n"
          ],
          "name": "stdout"
        }
      ]
    },
    {
      "cell_type": "code",
      "metadata": {
        "id": "GSJ-8ERsittC",
        "colab_type": "code",
        "colab": {}
      },
      "source": [
        ""
      ],
      "execution_count": 0,
      "outputs": []
    }
  ]
}